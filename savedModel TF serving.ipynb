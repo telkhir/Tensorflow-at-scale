{
 "cells": [
  {
   "cell_type": "code",
   "execution_count": 36,
   "metadata": {},
   "outputs": [],
   "source": [
    "import tensorflow as tf\n",
    "from tensorflow import keras\n",
    "import numpy as np\n",
    "import pandas as pd\n",
    "import matplotlib.pyplot as plt"
   ]
  },
  {
   "cell_type": "markdown",
   "metadata": {},
   "source": [
    "### Reading the data"
   ]
  },
  {
   "cell_type": "code",
   "execution_count": 37,
   "metadata": {},
   "outputs": [],
   "source": [
    "fashion_mnist = keras.datasets.fashion_mnist\n",
    "(X_train_full, y_train_full), (X_test, y_test) = fashion_mnist.load_data()"
   ]
  },
  {
   "cell_type": "code",
   "execution_count": 38,
   "metadata": {},
   "outputs": [],
   "source": [
    "X_valid, X_train = X_train_full[:5000] / 255.0, X_train_full[5000:] / 255.0\n",
    "y_valid, y_train = y_train_full[:5000], y_train_full[5000:]"
   ]
  },
  {
   "cell_type": "code",
   "execution_count": 39,
   "metadata": {},
   "outputs": [],
   "source": [
    "class_names = [\"Tshirt\", \"Trouser\", \"Pullover\", \"Dress\", \"Coat\", \"Sandal\", \"Shirt\", \"Sneaker\", \"Bag\", \"Ankle boot\"]"
   ]
  },
  {
   "cell_type": "markdown",
   "metadata": {},
   "source": [
    "### Building the Model"
   ]
  },
  {
   "cell_type": "code",
   "execution_count": 40,
   "metadata": {},
   "outputs": [],
   "source": [
    "model = keras.models.Sequential([\n",
    "    keras.layers.Flatten(input_shape=[28,28]),\n",
    "    keras.layers.Dense(300, activation=\"relu\"),\n",
    "    keras.layers.Dense(100, activation=\"relu\"),\n",
    "    keras.layers.Dense(10, activation=\"softmax\")], name=\"Mnist_Model\")"
   ]
  },
  {
   "cell_type": "code",
   "execution_count": 41,
   "metadata": {},
   "outputs": [
    {
     "name": "stdout",
     "output_type": "stream",
     "text": [
      "Model: \"Mnist_Model\"\n",
      "_________________________________________________________________\n",
      "Layer (type)                 Output Shape              Param #   \n",
      "=================================================================\n",
      "flatten_1 (Flatten)          (None, 784)               0         \n",
      "_________________________________________________________________\n",
      "dense_3 (Dense)              (None, 300)               235500    \n",
      "_________________________________________________________________\n",
      "dense_4 (Dense)              (None, 100)               30100     \n",
      "_________________________________________________________________\n",
      "dense_5 (Dense)              (None, 10)                1010      \n",
      "=================================================================\n",
      "Total params: 266,610\n",
      "Trainable params: 266,610\n",
      "Non-trainable params: 0\n",
      "_________________________________________________________________\n"
     ]
    }
   ],
   "source": [
    "model.summary()"
   ]
  },
  {
   "cell_type": "code",
   "execution_count": 42,
   "metadata": {},
   "outputs": [
    {
     "name": "stdout",
     "output_type": "stream",
     "text": [
      "Epoch 1/100\n",
      "1719/1719 [==============================] - 3s 2ms/step - loss: 0.7168 - accuracy: 0.7651 - val_loss: 0.5235 - val_accuracy: 0.8174\n",
      "Epoch 2/100\n",
      "1719/1719 [==============================] - 3s 2ms/step - loss: 0.4856 - accuracy: 0.8310 - val_loss: 0.4774 - val_accuracy: 0.8342\n",
      "Epoch 3/100\n",
      "1719/1719 [==============================] - 3s 2ms/step - loss: 0.4409 - accuracy: 0.8468 - val_loss: 0.4228 - val_accuracy: 0.8552\n",
      "Epoch 4/100\n",
      "1719/1719 [==============================] - 3s 2ms/step - loss: 0.4140 - accuracy: 0.8555 - val_loss: 0.3900 - val_accuracy: 0.8646\n",
      "Epoch 5/100\n",
      "1719/1719 [==============================] - 3s 2ms/step - loss: 0.3950 - accuracy: 0.8614 - val_loss: 0.3828 - val_accuracy: 0.8666\n",
      "Epoch 6/100\n",
      "1719/1719 [==============================] - 3s 2ms/step - loss: 0.3789 - accuracy: 0.8667 - val_loss: 0.3832 - val_accuracy: 0.8652\n",
      "Epoch 7/100\n",
      "1719/1719 [==============================] - 3s 2ms/step - loss: 0.3644 - accuracy: 0.8719 - val_loss: 0.3738 - val_accuracy: 0.8682\n",
      "Epoch 8/100\n",
      "1719/1719 [==============================] - 3s 2ms/step - loss: 0.3553 - accuracy: 0.8739 - val_loss: 0.3743 - val_accuracy: 0.8676\n",
      "Epoch 9/100\n",
      "1719/1719 [==============================] - ETA: 0s - loss: 0.3445 - accuracy: 0.87 - 3s 2ms/step - loss: 0.3446 - accuracy: 0.8767 - val_loss: 0.3463 - val_accuracy: 0.8798\n",
      "Epoch 10/100\n",
      "1719/1719 [==============================] - 3s 2ms/step - loss: 0.3349 - accuracy: 0.8811 - val_loss: 0.3368 - val_accuracy: 0.8814\n",
      "Epoch 11/100\n",
      "1719/1719 [==============================] - 3s 2ms/step - loss: 0.3263 - accuracy: 0.8830 - val_loss: 0.3298 - val_accuracy: 0.8846\n",
      "Epoch 12/100\n",
      "1719/1719 [==============================] - 3s 2ms/step - loss: 0.3184 - accuracy: 0.8868 - val_loss: 0.3371 - val_accuracy: 0.8814\n",
      "Epoch 13/100\n",
      "1719/1719 [==============================] - 3s 2ms/step - loss: 0.3121 - accuracy: 0.8872 - val_loss: 0.3295 - val_accuracy: 0.8822\n",
      "Epoch 14/100\n",
      "1719/1719 [==============================] - 3s 2ms/step - loss: 0.3057 - accuracy: 0.8893 - val_loss: 0.3278 - val_accuracy: 0.8842\n",
      "Epoch 15/100\n",
      "1719/1719 [==============================] - 3s 2ms/step - loss: 0.2983 - accuracy: 0.8916 - val_loss: 0.3223 - val_accuracy: 0.8854\n",
      "Epoch 16/100\n",
      "1719/1719 [==============================] - 3s 2ms/step - loss: 0.2929 - accuracy: 0.8942 - val_loss: 0.3144 - val_accuracy: 0.8860\n",
      "Epoch 17/100\n",
      "1719/1719 [==============================] - 3s 2ms/step - loss: 0.2870 - accuracy: 0.8964 - val_loss: 0.3143 - val_accuracy: 0.8878\n",
      "Epoch 18/100\n",
      "1719/1719 [==============================] - 3s 2ms/step - loss: 0.2811 - accuracy: 0.8986 - val_loss: 0.3188 - val_accuracy: 0.8824\n",
      "Epoch 19/100\n",
      "1719/1719 [==============================] - 3s 2ms/step - loss: 0.2762 - accuracy: 0.9002 - val_loss: 0.4536 - val_accuracy: 0.8252\n",
      "Epoch 20/100\n",
      "1719/1719 [==============================] - 3s 2ms/step - loss: 0.2714 - accuracy: 0.9024 - val_loss: 0.3113 - val_accuracy: 0.8892\n",
      "Epoch 21/100\n",
      "1719/1719 [==============================] - 3s 2ms/step - loss: 0.2667 - accuracy: 0.9044 - val_loss: 0.3170 - val_accuracy: 0.8844\n",
      "Epoch 22/100\n",
      "1719/1719 [==============================] - 3s 2ms/step - loss: 0.2607 - accuracy: 0.9055 - val_loss: 0.3085 - val_accuracy: 0.8874\n",
      "Epoch 23/100\n",
      "1719/1719 [==============================] - 3s 2ms/step - loss: 0.2571 - accuracy: 0.9064 - val_loss: 0.3022 - val_accuracy: 0.8928\n",
      "Epoch 24/100\n",
      "1719/1719 [==============================] - 3s 2ms/step - loss: 0.2531 - accuracy: 0.9075 - val_loss: 0.3020 - val_accuracy: 0.8918\n",
      "Epoch 25/100\n",
      "1719/1719 [==============================] - 3s 2ms/step - loss: 0.2475 - accuracy: 0.9100 - val_loss: 0.3072 - val_accuracy: 0.8866\n",
      "Epoch 26/100\n",
      "1719/1719 [==============================] - 3s 2ms/step - loss: 0.2450 - accuracy: 0.9110 - val_loss: 0.2971 - val_accuracy: 0.8954\n",
      "Epoch 27/100\n",
      "1719/1719 [==============================] - 3s 2ms/step - loss: 0.2406 - accuracy: 0.9130 - val_loss: 0.2920 - val_accuracy: 0.8938\n",
      "Epoch 28/100\n",
      "1719/1719 [==============================] - 3s 2ms/step - loss: 0.2360 - accuracy: 0.9152 - val_loss: 0.3020 - val_accuracy: 0.8904\n",
      "Epoch 29/100\n",
      "1719/1719 [==============================] - 3s 2ms/step - loss: 0.2321 - accuracy: 0.9173 - val_loss: 0.2980 - val_accuracy: 0.8940\n",
      "Epoch 30/100\n",
      "1719/1719 [==============================] - 3s 2ms/step - loss: 0.2291 - accuracy: 0.9179 - val_loss: 0.3066 - val_accuracy: 0.8888\n",
      "Epoch 31/100\n",
      "1719/1719 [==============================] - 3s 2ms/step - loss: 0.2256 - accuracy: 0.9198 - val_loss: 0.2979 - val_accuracy: 0.8920\n",
      "Epoch 32/100\n",
      "1719/1719 [==============================] - 3s 2ms/step - loss: 0.2206 - accuracy: 0.9211 - val_loss: 0.3161 - val_accuracy: 0.8870\n",
      "Epoch 33/100\n",
      "1719/1719 [==============================] - 3s 2ms/step - loss: 0.2181 - accuracy: 0.9221 - val_loss: 0.2958 - val_accuracy: 0.8922\n",
      "Epoch 34/100\n",
      "1719/1719 [==============================] - 3s 2ms/step - loss: 0.2141 - accuracy: 0.9251 - val_loss: 0.2935 - val_accuracy: 0.8928\n",
      "Epoch 35/100\n",
      "1719/1719 [==============================] - 3s 2ms/step - loss: 0.2117 - accuracy: 0.9238 - val_loss: 0.2968 - val_accuracy: 0.8908\n",
      "Epoch 36/100\n",
      "1719/1719 [==============================] - 3s 2ms/step - loss: 0.2074 - accuracy: 0.9254 - val_loss: 0.2891 - val_accuracy: 0.8958\n",
      "Epoch 37/100\n",
      "1719/1719 [==============================] - 3s 2ms/step - loss: 0.2044 - accuracy: 0.9270 - val_loss: 0.2911 - val_accuracy: 0.8946\n",
      "Epoch 38/100\n",
      "1719/1719 [==============================] - 3s 2ms/step - loss: 0.2015 - accuracy: 0.9283 - val_loss: 0.3130 - val_accuracy: 0.8888\n",
      "Epoch 39/100\n",
      "1719/1719 [==============================] - 3s 2ms/step - loss: 0.1983 - accuracy: 0.9289 - val_loss: 0.2940 - val_accuracy: 0.8946\n",
      "Epoch 40/100\n",
      "1719/1719 [==============================] - 3s 2ms/step - loss: 0.1950 - accuracy: 0.9303 - val_loss: 0.3094 - val_accuracy: 0.8906\n",
      "Epoch 41/100\n",
      "1719/1719 [==============================] - 3s 2ms/step - loss: 0.1919 - accuracy: 0.9318 - val_loss: 0.3209 - val_accuracy: 0.8836\n",
      "Epoch 42/100\n",
      "1719/1719 [==============================] - 3s 2ms/step - loss: 0.1902 - accuracy: 0.9316 - val_loss: 0.2880 - val_accuracy: 0.8920\n",
      "Epoch 43/100\n",
      "1719/1719 [==============================] - 3s 2ms/step - loss: 0.1855 - accuracy: 0.9340 - val_loss: 0.2894 - val_accuracy: 0.8960\n",
      "Epoch 44/100\n",
      "1719/1719 [==============================] - 3s 2ms/step - loss: 0.1823 - accuracy: 0.9349 - val_loss: 0.2930 - val_accuracy: 0.8936\n",
      "Epoch 45/100\n",
      "1719/1719 [==============================] - 3s 2ms/step - loss: 0.1800 - accuracy: 0.9363 - val_loss: 0.2886 - val_accuracy: 0.8970\n",
      "Epoch 46/100\n",
      "1719/1719 [==============================] - 3s 2ms/step - loss: 0.1779 - accuracy: 0.9370 - val_loss: 0.2906 - val_accuracy: 0.8984\n",
      "Epoch 47/100\n",
      "1719/1719 [==============================] - 3s 2ms/step - loss: 0.1758 - accuracy: 0.9365 - val_loss: 0.2981 - val_accuracy: 0.8958\n",
      "Epoch 48/100\n",
      "1719/1719 [==============================] - 3s 2ms/step - loss: 0.1726 - accuracy: 0.9376 - val_loss: 0.2951 - val_accuracy: 0.8942\n",
      "Epoch 49/100\n",
      "1719/1719 [==============================] - 3s 2ms/step - loss: 0.1688 - accuracy: 0.9404 - val_loss: 0.3053 - val_accuracy: 0.8926\n",
      "Epoch 50/100\n",
      "1719/1719 [==============================] - 3s 2ms/step - loss: 0.1678 - accuracy: 0.9400 - val_loss: 0.2992 - val_accuracy: 0.8942\n",
      "Epoch 51/100\n",
      "1719/1719 [==============================] - 3s 2ms/step - loss: 0.1643 - accuracy: 0.9419 - val_loss: 0.2976 - val_accuracy: 0.8932\n",
      "Epoch 52/100\n",
      "1719/1719 [==============================] - 3s 2ms/step - loss: 0.1610 - accuracy: 0.9434 - val_loss: 0.2994 - val_accuracy: 0.8970\n",
      "Epoch 53/100\n",
      "1719/1719 [==============================] - 3s 2ms/step - loss: 0.1599 - accuracy: 0.9425 - val_loss: 0.2929 - val_accuracy: 0.8994\n",
      "Epoch 54/100\n",
      "1719/1719 [==============================] - 3s 2ms/step - loss: 0.1569 - accuracy: 0.9441 - val_loss: 0.2984 - val_accuracy: 0.8924\n",
      "Epoch 55/100\n",
      "1719/1719 [==============================] - 3s 2ms/step - loss: 0.1550 - accuracy: 0.9447 - val_loss: 0.2933 - val_accuracy: 0.8994\n",
      "Epoch 56/100\n",
      "1719/1719 [==============================] - 3s 2ms/step - loss: 0.1519 - accuracy: 0.9459 - val_loss: 0.3222 - val_accuracy: 0.8942\n",
      "Epoch 57/100\n",
      "1719/1719 [==============================] - 3s 2ms/step - loss: 0.1498 - accuracy: 0.9475 - val_loss: 0.2984 - val_accuracy: 0.8994\n",
      "Epoch 58/100\n",
      "1719/1719 [==============================] - 3s 2ms/step - loss: 0.1469 - accuracy: 0.9481 - val_loss: 0.3005 - val_accuracy: 0.9012\n",
      "Epoch 59/100\n",
      "1719/1719 [==============================] - 3s 2ms/step - loss: 0.1439 - accuracy: 0.9491 - val_loss: 0.2907 - val_accuracy: 0.9038\n",
      "Epoch 60/100\n",
      "1719/1719 [==============================] - 3s 2ms/step - loss: 0.1416 - accuracy: 0.9500 - val_loss: 0.2911 - val_accuracy: 0.8998\n",
      "Epoch 61/100\n",
      "1719/1719 [==============================] - 3s 2ms/step - loss: 0.1409 - accuracy: 0.9508 - val_loss: 0.3086 - val_accuracy: 0.8908\n",
      "Epoch 62/100\n",
      "1719/1719 [==============================] - 3s 2ms/step - loss: 0.1389 - accuracy: 0.9504 - val_loss: 0.3157 - val_accuracy: 0.8964\n",
      "Epoch 63/100\n",
      "1719/1719 [==============================] - 3s 2ms/step - loss: 0.1364 - accuracy: 0.9524 - val_loss: 0.3066 - val_accuracy: 0.8986\n",
      "Epoch 64/100\n",
      "1719/1719 [==============================] - 3s 2ms/step - loss: 0.1348 - accuracy: 0.9528 - val_loss: 0.3220 - val_accuracy: 0.8886\n",
      "Epoch 65/100\n",
      "1719/1719 [==============================] - 3s 2ms/step - loss: 0.1317 - accuracy: 0.9532 - val_loss: 0.3237 - val_accuracy: 0.8888\n",
      "Epoch 66/100\n",
      "1719/1719 [==============================] - 3s 2ms/step - loss: 0.1297 - accuracy: 0.9540 - val_loss: 0.3060 - val_accuracy: 0.8970\n",
      "Epoch 67/100\n",
      "1719/1719 [==============================] - 3s 2ms/step - loss: 0.1272 - accuracy: 0.9553 - val_loss: 0.3247 - val_accuracy: 0.8962\n",
      "Epoch 68/100\n",
      "1719/1719 [==============================] - 3s 2ms/step - loss: 0.1261 - accuracy: 0.9548 - val_loss: 0.3046 - val_accuracy: 0.8984\n",
      "Epoch 69/100\n",
      "1719/1719 [==============================] - 3s 2ms/step - loss: 0.1240 - accuracy: 0.9555 - val_loss: 0.3060 - val_accuracy: 0.9012\n",
      "Epoch 70/100\n",
      "1719/1719 [==============================] - 3s 2ms/step - loss: 0.1217 - accuracy: 0.9566 - val_loss: 0.3165 - val_accuracy: 0.8954\n",
      "Epoch 71/100\n",
      "1719/1719 [==============================] - 3s 2ms/step - loss: 0.1199 - accuracy: 0.9584 - val_loss: 0.3250 - val_accuracy: 0.8956\n",
      "Epoch 72/100\n",
      "1719/1719 [==============================] - 3s 2ms/step - loss: 0.1172 - accuracy: 0.9591 - val_loss: 0.3464 - val_accuracy: 0.8914\n",
      "Epoch 73/100\n",
      "1719/1719 [==============================] - 3s 2ms/step - loss: 0.1148 - accuracy: 0.9604 - val_loss: 0.3311 - val_accuracy: 0.8954\n",
      "Epoch 74/100\n",
      "1719/1719 [==============================] - 3s 2ms/step - loss: 0.1130 - accuracy: 0.9606 - val_loss: 0.3382 - val_accuracy: 0.8910\n",
      "Epoch 75/100\n",
      "1719/1719 [==============================] - 3s 2ms/step - loss: 0.1116 - accuracy: 0.9618 - val_loss: 0.3110 - val_accuracy: 0.8986\n",
      "Epoch 76/100\n",
      "1719/1719 [==============================] - 3s 2ms/step - loss: 0.1092 - accuracy: 0.9612 - val_loss: 0.3375 - val_accuracy: 0.8948\n",
      "Epoch 77/100\n",
      "1719/1719 [==============================] - 3s 2ms/step - loss: 0.1079 - accuracy: 0.9618 - val_loss: 0.3161 - val_accuracy: 0.8982\n",
      "Epoch 78/100\n",
      "1719/1719 [==============================] - 3s 2ms/step - loss: 0.1063 - accuracy: 0.9627 - val_loss: 0.3335 - val_accuracy: 0.8948\n",
      "Epoch 79/100\n",
      "1719/1719 [==============================] - 3s 2ms/step - loss: 0.1045 - accuracy: 0.9638 - val_loss: 0.3441 - val_accuracy: 0.8980\n",
      "Epoch 80/100\n",
      "1719/1719 [==============================] - 3s 2ms/step - loss: 0.1037 - accuracy: 0.9635 - val_loss: 0.3185 - val_accuracy: 0.8970\n",
      "Epoch 81/100\n",
      "1719/1719 [==============================] - 3s 2ms/step - loss: 0.1016 - accuracy: 0.9646 - val_loss: 0.3249 - val_accuracy: 0.8962\n",
      "Epoch 82/100\n",
      "1719/1719 [==============================] - 3s 2ms/step - loss: 0.1002 - accuracy: 0.9651 - val_loss: 0.3661 - val_accuracy: 0.8938\n",
      "Epoch 83/100\n",
      "1719/1719 [==============================] - 3s 2ms/step - loss: 0.0978 - accuracy: 0.9657 - val_loss: 0.3209 - val_accuracy: 0.9012\n",
      "Epoch 84/100\n",
      "1719/1719 [==============================] - 3s 2ms/step - loss: 0.0962 - accuracy: 0.9661 - val_loss: 0.3262 - val_accuracy: 0.9004\n",
      "Epoch 85/100\n",
      "1719/1719 [==============================] - 3s 2ms/step - loss: 0.0944 - accuracy: 0.9677 - val_loss: 0.3790 - val_accuracy: 0.8938\n",
      "Epoch 86/100\n",
      "1719/1719 [==============================] - 3s 2ms/step - loss: 0.0931 - accuracy: 0.9672 - val_loss: 0.3339 - val_accuracy: 0.8980\n",
      "Epoch 87/100\n",
      "1719/1719 [==============================] - 3s 2ms/step - loss: 0.0908 - accuracy: 0.9685 - val_loss: 0.3258 - val_accuracy: 0.8990\n",
      "Epoch 88/100\n",
      "1719/1719 [==============================] - 3s 2ms/step - loss: 0.0900 - accuracy: 0.9691 - val_loss: 0.4434 - val_accuracy: 0.8754\n",
      "Epoch 89/100\n",
      "1719/1719 [==============================] - 3s 2ms/step - loss: 0.0877 - accuracy: 0.9695 - val_loss: 0.3438 - val_accuracy: 0.8960\n",
      "Epoch 90/100\n",
      "1719/1719 [==============================] - 3s 2ms/step - loss: 0.0866 - accuracy: 0.9708 - val_loss: 0.3437 - val_accuracy: 0.8936\n",
      "Epoch 91/100\n",
      "1719/1719 [==============================] - 3s 2ms/step - loss: 0.0850 - accuracy: 0.9705 - val_loss: 0.3486 - val_accuracy: 0.8976\n",
      "Epoch 92/100\n",
      "1719/1719 [==============================] - 3s 2ms/step - loss: 0.0830 - accuracy: 0.9717 - val_loss: 0.3444 - val_accuracy: 0.8974\n",
      "Epoch 93/100\n",
      "1719/1719 [==============================] - 3s 2ms/step - loss: 0.0835 - accuracy: 0.9711 - val_loss: 0.3751 - val_accuracy: 0.8882\n",
      "Epoch 94/100\n",
      "1719/1719 [==============================] - 3s 2ms/step - loss: 0.0807 - accuracy: 0.9720 - val_loss: 0.3514 - val_accuracy: 0.8982\n",
      "Epoch 95/100\n",
      "1719/1719 [==============================] - 3s 2ms/step - loss: 0.0790 - accuracy: 0.9725 - val_loss: 0.3620 - val_accuracy: 0.8950\n",
      "Epoch 96/100\n",
      "1719/1719 [==============================] - 3s 2ms/step - loss: 0.0791 - accuracy: 0.9728 - val_loss: 0.3573 - val_accuracy: 0.8962\n",
      "Epoch 97/100\n",
      "1719/1719 [==============================] - 3s 2ms/step - loss: 0.0762 - accuracy: 0.9741 - val_loss: 0.3512 - val_accuracy: 0.8998\n",
      "Epoch 98/100\n",
      "1719/1719 [==============================] - 3s 2ms/step - loss: 0.0767 - accuracy: 0.9739 - val_loss: 0.3543 - val_accuracy: 0.8970\n",
      "Epoch 99/100\n",
      "1719/1719 [==============================] - 3s 2ms/step - loss: 0.0743 - accuracy: 0.9749 - val_loss: 0.3590 - val_accuracy: 0.8972\n",
      "Epoch 100/100\n",
      "1719/1719 [==============================] - 3s 2ms/step - loss: 0.0730 - accuracy: 0.9752 - val_loss: 0.3802 - val_accuracy: 0.8944\n"
     ]
    }
   ],
   "source": [
    "model.compile(loss=\"sparse_categorical_crossentropy\", optimizer=\"sgd\", metrics=[\"accuracy\"])\n",
    "history = model.fit(X_train, y_train, epochs=100, validation_data=(X_valid, y_valid))"
   ]
  },
  {
   "cell_type": "code",
   "execution_count": 43,
   "metadata": {},
   "outputs": [
    {
     "data": {
      "image/png": "[encoded data removed]",
      "text/plain": [
       "<Figure size 576x360 with 1 Axes>"
      ]
     },
     "metadata": {
      "needs_background": "light"
     },
     "output_type": "display_data"
    }
   ],
   "source": [
    "pd.DataFrame(history.history).plot(figsize=(8,5))\n",
    "plt.grid(True)\n",
    "plt.gca().set_ylim(0,1)\n",
    "plt.show()"
   ]
  },
  {
   "cell_type": "code",
   "execution_count": 44,
   "metadata": {},
   "outputs": [
    {
     "name": "stdout",
     "output_type": "stream",
     "text": [
      "10000/10000 [==============================] - 11s 1ms/step - loss: 126.2993 - accuracy: 0.8300\n"
     ]
    },
    {
     "data": {
      "text/plain": [
       "[126.29926300048828, 0.8299999833106995]"
      ]
     },
     "execution_count": 44,
     "metadata": {},
     "output_type": "execute_result"
    }
   ],
   "source": [
    "model.evaluate(X_test, y_test, batch_size=1)"
   ]
  },
  {
   "cell_type": "markdown",
   "metadata": {},
   "source": [
    "### Predictions"
   ]
  },
  {
   "cell_type": "code",
   "execution_count": 45,
   "metadata": {},
   "outputs": [
    {
     "data": {
      "text/plain": [
       "array([[0., 0., 0., 0., 0., 0., 0., 0., 0., 1.],\n",
       "       [0., 0., 1., 0., 0., 0., 0., 0., 0., 0.],\n",
       "       [0., 1., 0., 0., 0., 0., 0., 0., 0., 0.]], dtype=float32)"
      ]
     },
     "execution_count": 45,
     "metadata": {},
     "output_type": "execute_result"
    }
   ],
   "source": [
    "X_new = X_test[:3]\n",
    "y_proba = model.predict(X_new)\n",
    "y_proba.round(3)"
   ]
  },
  {
   "cell_type": "code",
   "execution_count": 46,
   "metadata": {},
   "outputs": [
    {
     "data": {
      "text/plain": [
       "array([9, 2, 1], dtype=int64)"
      ]
     },
     "execution_count": 46,
     "metadata": {},
     "output_type": "execute_result"
    }
   ],
   "source": [
    "X_new = X_test[:3]\n",
    "y_pred = model.predict_classes(X_new)\n",
    "y_pred"
   ]
  },
  {
   "cell_type": "code",
   "execution_count": 48,
   "metadata": {},
   "outputs": [
    {
     "data": {
      "text/plain": [
       "array(['Ankle boot', 'Pullover', 'Trouser'], dtype='<U10')"
      ]
     },
     "execution_count": 48,
     "metadata": {},
     "output_type": "execute_result"
    }
   ],
   "source": [
    "np.array(class_names)[y_pred]"
   ]
  },
  {
   "cell_type": "markdown",
   "metadata": {},
   "source": [
    "### Save the model in Savedmodel format"
   ]
  },
  {
   "cell_type": "code",
   "execution_count": 54,
   "metadata": {},
   "outputs": [
    {
     "name": "stdout",
     "output_type": "stream",
     "text": [
      "INFO:tensorflow:Assets written to: my_mnist_model\\0001\\assets\n"
     ]
    }
   ],
   "source": [
    "import os\n",
    "model_version = \"0001\"\n",
    "model_name = \"my_mnist_model\"\n",
    "model_path = os.path.join(model_name, model_version)\n",
    "tf.keras.models.save_model(model, model_path)"
   ]
  },
  {
   "cell_type": "code",
   "execution_count": 58,
   "metadata": {},
   "outputs": [],
   "source": [
    "# run on anaconda cli, after activating your conda env and going to the project directory\n",
    "#saved_model_cli show --dir model_path --all"
   ]
  },
  {
   "cell_type": "markdown",
   "metadata": {},
   "source": [
    "##### load the model and predcit: using the savel_model cli"
   ]
  },
  {
   "cell_type": "code",
   "execution_count": null,
   "metadata": {},
   "outputs": [],
   "source": [
    "np.save(\"my_mnist_test.npy\", X_new)\n",
    "# saved_model_cli run --dir my_mnist_model/0001 --tag_set serve --signature_def serving_default --inputs flatten_1_input=my_mnist_test.npy"
   ]
  },
  {
   "cell_type": "markdown",
   "metadata": {},
   "source": [
    "##### load the model and predict: simple methode"
   ]
  },
  {
   "cell_type": "code",
   "execution_count": 64,
   "metadata": {},
   "outputs": [
    {
     "data": {
      "text/plain": [
       "<tf.Tensor: shape=(3, 10), dtype=float32, numpy=\n",
       "array([[0., 0., 0., 0., 0., 0., 0., 0., 0., 1.],\n",
       "       [0., 0., 1., 0., 0., 0., 0., 0., 0., 0.],\n",
       "       [0., 1., 0., 0., 0., 0., 0., 0., 0., 0.]], dtype=float32)>"
      ]
     },
     "execution_count": 64,
     "metadata": {},
     "output_type": "execute_result"
    }
   ],
   "source": [
    "saved_model = tf.keras.models.load_model(model_path) \n",
    "y_pred = saved_model(X_new, training=False)\n",
    "y_pred"
   ]
  },
  {
   "cell_type": "markdown",
   "metadata": {},
   "source": [
    "##### load the model and predict: wrap the saved model as keras model"
   ]
  },
  {
   "cell_type": "code",
   "execution_count": 68,
   "metadata": {},
   "outputs": [
    {
     "data": {
      "text/plain": [
       "array([[0., 0., 0., 0., 0., 0., 0., 0., 0., 1.],\n",
       "       [0., 0., 1., 0., 0., 0., 0., 0., 0., 0.],\n",
       "       [0., 1., 0., 0., 0., 0., 0., 0., 0., 0.]], dtype=float32)"
      ]
     },
     "execution_count": 68,
     "metadata": {},
     "output_type": "execute_result"
    }
   ],
   "source": [
    "inputs = keras.layers.Input(shape=[28,28])\n",
    "outputs = saved_model(inputs, training=False)\n",
    "model = tf.keras.Model(inputs=[inputs], outputs=[outputs])\n",
    "y_preds = model.predict(X_new)\n",
    "y_preds"
   ]
  },
  {
   "cell_type": "markdown",
   "metadata": {},
   "source": [
    "## Exposing the savedModel for use using TF serving "
   ]
  },
  {
   "cell_type": "markdown",
   "metadata": {},
   "source": [
    "We will be using docker to run our tf serving server"
   ]
  },
  {
   "cell_type": "code",
   "execution_count": null,
   "metadata": {},
   "outputs": [],
   "source": [
    "# docker pull tensorflow/serving\n",
    "# docker run -it --rm -p 8500:8500 -p 8501:8501 \\\n",
    "#            -v 'Tensorflow-at-scale/my_mnist_model:/models/my_mnist_model' \\ \n",
    "#            -e MODEL_NAME = my_mnist_model \\\n",
    "#            tensorflow/serving"
   ]
  },
  {
   "cell_type": "markdown",
   "metadata": {},
   "source": [
    " Once the tf serving server is up and running, we can query it using the Rest Api or the gRPC Api: (both dispo at ports 8500 and 8501 respectively)"
   ]
  },
  {
   "cell_type": "markdown",
   "metadata": {},
   "source": [
    "## Querying via Rest API"
   ]
  },
  {
   "cell_type": "code",
   "execution_count": null,
   "metadata": {},
   "outputs": [],
   "source": []
  },
  {
   "cell_type": "code",
   "execution_count": null,
   "metadata": {},
   "outputs": [],
   "source": []
  },
  {
   "cell_type": "markdown",
   "metadata": {},
   "source": [
    "## Querying via gRPC API"
   ]
  },
  {
   "cell_type": "code",
   "execution_count": null,
   "metadata": {},
   "outputs": [],
   "source": []
  }
 ],
 "metadata": {
  "kernelspec": {
   "display_name": "Python 3",
   "language": "python",
   "name": "python3"
  },
  "language_info": {
   "codemirror_mode": {
    "name": "ipython",
    "version": 3
   },
   "file_extension": ".py",
   "mimetype": "text/x-python",
   "name": "python",
   "nbconvert_exporter": "python",
   "pygments_lexer": "ipython3",
   "version": "3.8.5"
  }
 },
 "nbformat": 4,
 "nbformat_minor": 4
}
